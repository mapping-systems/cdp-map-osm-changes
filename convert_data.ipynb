{
 "cells": [
  {
   "cell_type": "code",
   "execution_count": 6,
   "id": "8ec5f3bb",
   "metadata": {},
   "outputs": [],
   "source": [
    "import geopandas as gpd\n",
    "import pandas as pd\n",
    "import shapely.wkb as wkblib"
   ]
  },
  {
   "cell_type": "code",
   "execution_count": 14,
   "id": "5d9ed215",
   "metadata": {},
   "outputs": [],
   "source": [
    "import osmium\n",
    "import shapely.wkb as wkblib\n",
    "\n",
    "\n",
    "class ChangeHandler(osmium.SimpleHandler):\n",
    "    def __init__(self):\n",
    "        super().__init__()\n",
    "        self.wkbfab = osmium.geom.WKBFactory()\n",
    "        self.records = []\n",
    "\n",
    "    def node(self, n):\n",
    "        if not n.visible or not n.tags:\n",
    "            return\n",
    "\n",
    "        try:\n",
    "            geom = wkblib.loads(self.wkbfab.create_point(n), hex=True)\n",
    "            self.records.append(\n",
    "                {\n",
    "                    \"id\": n.id,\n",
    "                    \"user\": n.user,\n",
    "                    \"changeset\": n.changeset,\n",
    "                    \"timestamp\": n.timestamp,\n",
    "                    \"tags\": dict(n.tags),\n",
    "                    \"geometry\": geom.wkt,\n",
    "                }\n",
    "            )\n",
    "\n",
    "        except Exception as e:\n",
    "            pass\n",
    "\n",
    "    def relation(self, r):\n",
    "        if not r.visible or not r.tags:\n",
    "            return\n",
    "\n",
    "        try:\n",
    "            geom = wkblib.loads(self.wkbfab.create_linestring(r), hex=True)\n",
    "            self.records.append(\n",
    "                {\n",
    "                    \"id\": r.id,\n",
    "                    \"user\": r.user,\n",
    "                    \"changeset\": r.changeset,\n",
    "                    \"timestamp\": r.timestamp,\n",
    "                    \"tags\": dict(r.tags),\n",
    "                    \"geometry\": geom.wkt,\n",
    "                }\n",
    "            )\n",
    "\n",
    "        except Exception as e:\n",
    "            pass\n",
    "\n",
    "    def way(self, w):\n",
    "        if not w.visible or not w.tags:\n",
    "            return\n",
    "\n",
    "        try:\n",
    "            geom = wkblib.loads(self.wkbfab.create_linestring(w), hex=True)\n",
    "            self.records.append(\n",
    "                {\n",
    "                    \"id\": w.id,\n",
    "                    \"user\": w.user,\n",
    "                    \"changeset\": w.changeset,\n",
    "                    \"timestamp\": w.timestamp,\n",
    "                    \"tags\": dict(w.tags),\n",
    "                    \"geometry\": geom.wkt,\n",
    "                }\n",
    "            )\n",
    "\n",
    "        except Exception as e:\n",
    "            pass\n",
    "\n",
    "\n",
    "handler = ChangeHandler()\n",
    "handler.apply_file(\"/Users/marioag/Downloads/695.osc.gz\", locations=True)"
   ]
  },
  {
   "cell_type": "code",
   "execution_count": 15,
   "id": "92f8e5e5",
   "metadata": {},
   "outputs": [],
   "source": [
    "df = pd.DataFrame(handler.records)"
   ]
  },
  {
   "cell_type": "code",
   "execution_count": 16,
   "id": "5e5c4a11",
   "metadata": {},
   "outputs": [
    {
     "data": {
      "text/html": [
       "<div>\n",
       "<style scoped>\n",
       "    .dataframe tbody tr th:only-of-type {\n",
       "        vertical-align: middle;\n",
       "    }\n",
       "\n",
       "    .dataframe tbody tr th {\n",
       "        vertical-align: top;\n",
       "    }\n",
       "\n",
       "    .dataframe thead th {\n",
       "        text-align: right;\n",
       "    }\n",
       "</style>\n",
       "<table border=\"1\" class=\"dataframe\">\n",
       "  <thead>\n",
       "    <tr style=\"text-align: right;\">\n",
       "      <th></th>\n",
       "      <th>id</th>\n",
       "      <th>user</th>\n",
       "      <th>changeset</th>\n",
       "      <th>timestamp</th>\n",
       "      <th>tags</th>\n",
       "      <th>geometry</th>\n",
       "    </tr>\n",
       "  </thead>\n",
       "  <tbody>\n",
       "    <tr>\n",
       "      <th>0</th>\n",
       "      <td>132113</td>\n",
       "      <td>Barro</td>\n",
       "      <td>169195598</td>\n",
       "      <td>2025-07-20 13:07:56+00:00</td>\n",
       "      <td>{'crossing': 'traffic_signals', 'highway': 'cr...</td>\n",
       "      <td>POINT (24.8789465 60.1924447)</td>\n",
       "    </tr>\n",
       "    <tr>\n",
       "      <th>1</th>\n",
       "      <td>132113</td>\n",
       "      <td>Barro</td>\n",
       "      <td>169195599</td>\n",
       "      <td>2025-07-20 13:07:57+00:00</td>\n",
       "      <td>{'button_operated': 'yes', 'crossing': 'traffi...</td>\n",
       "      <td>POINT (24.8789465 60.1924447)</td>\n",
       "    </tr>\n",
       "    <tr>\n",
       "      <th>2</th>\n",
       "      <td>356912</td>\n",
       "      <td>Sara Newmountain</td>\n",
       "      <td>169197165</td>\n",
       "      <td>2025-07-20 13:43:09+00:00</td>\n",
       "      <td>{'crossing:signals': 'yes', 'highway': 'crossi...</td>\n",
       "      <td>POINT (17.1317579 60.6746147)</td>\n",
       "    </tr>\n",
       "    <tr>\n",
       "      <th>3</th>\n",
       "      <td>356912</td>\n",
       "      <td>Sara Newmountain</td>\n",
       "      <td>169197032</td>\n",
       "      <td>2025-07-20 13:43:15+00:00</td>\n",
       "      <td>{'crossing:signals': 'yes', 'highway': 'crossi...</td>\n",
       "      <td>POINT (17.1317579 60.6746147)</td>\n",
       "    </tr>\n",
       "    <tr>\n",
       "      <th>4</th>\n",
       "      <td>392790</td>\n",
       "      <td>Dornbacher</td>\n",
       "      <td>169195624</td>\n",
       "      <td>2025-07-20 13:08:34+00:00</td>\n",
       "      <td>{'highway': 'traffic_signals'}</td>\n",
       "      <td>POINT (16.3661856 48.2165476)</td>\n",
       "    </tr>\n",
       "  </tbody>\n",
       "</table>\n",
       "</div>"
      ],
      "text/plain": [
       "       id              user  changeset                 timestamp  \\\n",
       "0  132113             Barro  169195598 2025-07-20 13:07:56+00:00   \n",
       "1  132113             Barro  169195599 2025-07-20 13:07:57+00:00   \n",
       "2  356912  Sara Newmountain  169197165 2025-07-20 13:43:09+00:00   \n",
       "3  356912  Sara Newmountain  169197032 2025-07-20 13:43:15+00:00   \n",
       "4  392790        Dornbacher  169195624 2025-07-20 13:08:34+00:00   \n",
       "\n",
       "                                                tags  \\\n",
       "0  {'crossing': 'traffic_signals', 'highway': 'cr...   \n",
       "1  {'button_operated': 'yes', 'crossing': 'traffi...   \n",
       "2  {'crossing:signals': 'yes', 'highway': 'crossi...   \n",
       "3  {'crossing:signals': 'yes', 'highway': 'crossi...   \n",
       "4                     {'highway': 'traffic_signals'}   \n",
       "\n",
       "                        geometry  \n",
       "0  POINT (24.8789465 60.1924447)  \n",
       "1  POINT (24.8789465 60.1924447)  \n",
       "2  POINT (17.1317579 60.6746147)  \n",
       "3  POINT (17.1317579 60.6746147)  \n",
       "4  POINT (16.3661856 48.2165476)  "
      ]
     },
     "execution_count": 16,
     "metadata": {},
     "output_type": "execute_result"
    }
   ],
   "source": [
    "df.head()"
   ]
  },
  {
   "cell_type": "code",
   "execution_count": 17,
   "id": "0d01a147",
   "metadata": {},
   "outputs": [],
   "source": [
    "# convert wkt to geometry object\n",
    "gdf = gpd.GeoDataFrame(df, geometry=gpd.GeoSeries.from_wkt(df[\"geometry\"]))"
   ]
  },
  {
   "cell_type": "code",
   "execution_count": 18,
   "id": "f97c6753",
   "metadata": {},
   "outputs": [
    {
     "data": {
      "text/plain": [
       "Point         248305\n",
       "LineString    209299\n",
       "Name: count, dtype: int64"
      ]
     },
     "execution_count": 18,
     "metadata": {},
     "output_type": "execute_result"
    }
   ],
   "source": [
    "gdf.geom_type.value_counts()"
   ]
  },
  {
   "cell_type": "code",
   "execution_count": 19,
   "id": "facea34f",
   "metadata": {},
   "outputs": [
    {
     "name": "stderr",
     "output_type": "stream",
     "text": [
      "/Users/marioag/opt/anaconda3/envs/cdp25/lib/python3.12/site-packages/pyogrio/geopandas.py:710: UserWarning: 'crs' was not provided.  The output dataset will not have projection information defined and may not be usable in other systems.\n",
      "  write(\n"
     ]
    },
    {
     "name": "stdout",
     "output_type": "stream",
     "text": [
      "Exported Point geometries to changes_Point.geojson\n"
     ]
    },
    {
     "name": "stderr",
     "output_type": "stream",
     "text": [
      "/Users/marioag/opt/anaconda3/envs/cdp25/lib/python3.12/site-packages/pyogrio/geopandas.py:710: UserWarning: 'crs' was not provided.  The output dataset will not have projection information defined and may not be usable in other systems.\n",
      "  write(\n"
     ]
    },
    {
     "name": "stdout",
     "output_type": "stream",
     "text": [
      "Exported LineString geometries to changes_LineString.geojson\n"
     ]
    }
   ],
   "source": [
    "# export each geometry type to a separate file\n",
    "for geom_type in gdf.geom_type.unique():\n",
    "    gdf[gdf.geom_type == geom_type].to_file(\n",
    "        f\"/Users/marioag/Downloads/changes_{geom_type}.geojson\", driver=\"GeoJSON\"\n",
    "    )\n",
    "    print(f\"Exported {geom_type} geometries to changes_{geom_type}.geojson\")"
   ]
  },
  {
   "cell_type": "code",
   "execution_count": null,
   "id": "d67503e3",
   "metadata": {},
   "outputs": [],
   "source": []
  }
 ],
 "metadata": {
  "kernelspec": {
   "display_name": "cdp25",
   "language": "python",
   "name": "python3"
  },
  "language_info": {
   "codemirror_mode": {
    "name": "ipython",
    "version": 3
   },
   "file_extension": ".py",
   "mimetype": "text/x-python",
   "name": "python",
   "nbconvert_exporter": "python",
   "pygments_lexer": "ipython3",
   "version": "3.12.9"
  }
 },
 "nbformat": 4,
 "nbformat_minor": 5
}
